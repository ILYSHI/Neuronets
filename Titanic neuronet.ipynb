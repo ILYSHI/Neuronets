{
 "cells": [
  {
   "cell_type": "code",
   "execution_count": 1,
   "metadata": {},
   "outputs": [],
   "source": [
    "import os"
   ]
  },
  {
   "cell_type": "code",
   "execution_count": 2,
   "metadata": {},
   "outputs": [
    {
     "data": {
      "text/plain": [
       "'C:\\\\Users\\\\ILYA\\\\Desktop\\\\Python code\\\\Data Science\\\\Нейросети\\\\Titanic battle'"
      ]
     },
     "execution_count": 2,
     "metadata": {},
     "output_type": "execute_result"
    }
   ],
   "source": [
    "os.getcwd()"
   ]
  },
  {
   "cell_type": "code",
   "execution_count": 3,
   "metadata": {},
   "outputs": [],
   "source": [
    "os.chdir('C:\\\\Users\\ILYA\\Desktop\\Python code\\Data Science\\Нейросети\\Titanic battle')"
   ]
  },
  {
   "cell_type": "code",
   "execution_count": null,
   "metadata": {},
   "outputs": [],
   "source": []
  },
  {
   "cell_type": "markdown",
   "metadata": {},
   "source": [
    "# Importing dataset"
   ]
  },
  {
   "cell_type": "code",
   "execution_count": 4,
   "metadata": {},
   "outputs": [],
   "source": [
    "import pandas as pd\n",
    "import numpy as np\n",
    "import matplotlib.pyplot as plt\n",
    "import seaborn as sns\n",
    "from sklearn import tree"
   ]
  },
  {
   "cell_type": "code",
   "execution_count": 5,
   "metadata": {},
   "outputs": [],
   "source": [
    "data = pd.read_csv('titanik_full_data.csv',sep='\\t')"
   ]
  },
  {
   "cell_type": "code",
   "execution_count": 339,
   "metadata": {},
   "outputs": [],
   "source": [
    "clear_data = pd.read_csv('TitanicCleanData.csv',encoding= 'unicode_escape')"
   ]
  },
  {
   "cell_type": "code",
   "execution_count": 340,
   "metadata": {},
   "outputs": [
    {
     "data": {
      "text/html": [
       "<div>\n",
       "<style scoped>\n",
       "    .dataframe tbody tr th:only-of-type {\n",
       "        vertical-align: middle;\n",
       "    }\n",
       "\n",
       "    .dataframe tbody tr th {\n",
       "        vertical-align: top;\n",
       "    }\n",
       "\n",
       "    .dataframe thead th {\n",
       "        text-align: right;\n",
       "    }\n",
       "</style>\n",
       "<table border=\"1\" class=\"dataframe\">\n",
       "  <thead>\n",
       "    <tr style=\"text-align: right;\">\n",
       "      <th></th>\n",
       "      <th>PassengerId</th>\n",
       "      <th>Survived</th>\n",
       "      <th>Pclass</th>\n",
       "      <th>Name</th>\n",
       "      <th>NameLength</th>\n",
       "      <th>Sex</th>\n",
       "      <th>SibSpouse</th>\n",
       "      <th>ParentsChild</th>\n",
       "      <th>TicketNumber</th>\n",
       "      <th>Cabin</th>\n",
       "      <th>Age_Months</th>\n",
       "      <th>HometownCountry</th>\n",
       "      <th>Boarded</th>\n",
       "      <th>Destination</th>\n",
       "      <th>DestinationCountry</th>\n",
       "      <th>Lifeboat</th>\n",
       "      <th>LifeboatSupport</th>\n",
       "      <th>Fare_new</th>\n",
       "    </tr>\n",
       "  </thead>\n",
       "  <tbody>\n",
       "    <tr>\n",
       "      <th>0</th>\n",
       "      <td>1</td>\n",
       "      <td>0.0</td>\n",
       "      <td>3</td>\n",
       "      <td>Braund, Mr. Owen Harris</td>\n",
       "      <td>23</td>\n",
       "      <td>male</td>\n",
       "      <td>1</td>\n",
       "      <td>0</td>\n",
       "      <td>A/5 21171</td>\n",
       "      <td>NaN</td>\n",
       "      <td>264</td>\n",
       "      <td>England</td>\n",
       "      <td>Southampton</td>\n",
       "      <td>Qu'Appelle Valley, Saskatchewan, Canada</td>\n",
       "      <td>Canada</td>\n",
       "      <td>NaN</td>\n",
       "      <td>No</td>\n",
       "      <td>1.945910</td>\n",
       "    </tr>\n",
       "    <tr>\n",
       "      <th>1</th>\n",
       "      <td>2</td>\n",
       "      <td>1.0</td>\n",
       "      <td>1</td>\n",
       "      <td>Cumings, Mrs. John Bradley</td>\n",
       "      <td>27</td>\n",
       "      <td>female</td>\n",
       "      <td>1</td>\n",
       "      <td>0</td>\n",
       "      <td>PC 17599</td>\n",
       "      <td>C85</td>\n",
       "      <td>420</td>\n",
       "      <td>US</td>\n",
       "      <td>Cherbourg</td>\n",
       "      <td>New York, New York, US</td>\n",
       "      <td>US</td>\n",
       "      <td>4</td>\n",
       "      <td>Yes</td>\n",
       "      <td>4.262680</td>\n",
       "    </tr>\n",
       "    <tr>\n",
       "      <th>2</th>\n",
       "      <td>3</td>\n",
       "      <td>1.0</td>\n",
       "      <td>3</td>\n",
       "      <td>Heikkinen, Miss. Laina</td>\n",
       "      <td>22</td>\n",
       "      <td>female</td>\n",
       "      <td>0</td>\n",
       "      <td>0</td>\n",
       "      <td>STON/O2. 3101282</td>\n",
       "      <td>NaN</td>\n",
       "      <td>312</td>\n",
       "      <td>Finland</td>\n",
       "      <td>Southampton</td>\n",
       "      <td>New York City</td>\n",
       "      <td>US</td>\n",
       "      <td>14</td>\n",
       "      <td>Yes</td>\n",
       "      <td>1.945910</td>\n",
       "    </tr>\n",
       "    <tr>\n",
       "      <th>3</th>\n",
       "      <td>4</td>\n",
       "      <td>1.0</td>\n",
       "      <td>1</td>\n",
       "      <td>Futrelle, Mrs. Jacques Heath</td>\n",
       "      <td>29</td>\n",
       "      <td>female</td>\n",
       "      <td>1</td>\n",
       "      <td>0</td>\n",
       "      <td>113803</td>\n",
       "      <td>C123</td>\n",
       "      <td>420</td>\n",
       "      <td>US</td>\n",
       "      <td>Southampton</td>\n",
       "      <td>Scituate, Massachusetts, US</td>\n",
       "      <td>US</td>\n",
       "      <td>D</td>\n",
       "      <td>Yes</td>\n",
       "      <td>3.970292</td>\n",
       "    </tr>\n",
       "    <tr>\n",
       "      <th>4</th>\n",
       "      <td>5</td>\n",
       "      <td>0.0</td>\n",
       "      <td>3</td>\n",
       "      <td>Allen, Mr. William Henry</td>\n",
       "      <td>24</td>\n",
       "      <td>male</td>\n",
       "      <td>0</td>\n",
       "      <td>0</td>\n",
       "      <td>373450</td>\n",
       "      <td>NaN</td>\n",
       "      <td>420</td>\n",
       "      <td>England</td>\n",
       "      <td>Southampton</td>\n",
       "      <td>New York City</td>\n",
       "      <td>US</td>\n",
       "      <td>NaN</td>\n",
       "      <td>No</td>\n",
       "      <td>2.079442</td>\n",
       "    </tr>\n",
       "  </tbody>\n",
       "</table>\n",
       "</div>"
      ],
      "text/plain": [
       "   PassengerId  Survived  Pclass                           Name  NameLength  \\\n",
       "0            1       0.0       3        Braund, Mr. Owen Harris          23   \n",
       "1            2       1.0       1    Cumings, Mrs. John Bradley           27   \n",
       "2            3       1.0       3         Heikkinen, Miss. Laina          22   \n",
       "3            4       1.0       1  Futrelle, Mrs. Jacques Heath           29   \n",
       "4            5       0.0       3       Allen, Mr. William Henry          24   \n",
       "\n",
       "      Sex  SibSpouse  ParentsChild      TicketNumber Cabin  Age_Months  \\\n",
       "0    male          1             0         A/5 21171   NaN         264   \n",
       "1  female          1             0          PC 17599   C85         420   \n",
       "2  female          0             0  STON/O2. 3101282   NaN         312   \n",
       "3  female          1             0            113803  C123         420   \n",
       "4    male          0             0            373450   NaN         420   \n",
       "\n",
       "  HometownCountry      Boarded                              Destination  \\\n",
       "0         England  Southampton  Qu'Appelle Valley, Saskatchewan, Canada   \n",
       "1              US    Cherbourg                   New York, New York, US   \n",
       "2         Finland  Southampton                            New York City   \n",
       "3              US  Southampton              Scituate, Massachusetts, US   \n",
       "4         England  Southampton                            New York City   \n",
       "\n",
       "  DestinationCountry Lifeboat LifeboatSupport  Fare_new  \n",
       "0             Canada      NaN              No  1.945910  \n",
       "1                 US        4             Yes  4.262680  \n",
       "2                 US       14             Yes  1.945910  \n",
       "3                 US        D             Yes  3.970292  \n",
       "4                 US      NaN              No  2.079442  "
      ]
     },
     "execution_count": 340,
     "metadata": {},
     "output_type": "execute_result"
    }
   ],
   "source": [
    "clear_data.head()"
   ]
  },
  {
   "cell_type": "code",
   "execution_count": 6,
   "metadata": {},
   "outputs": [
    {
     "data": {
      "text/html": [
       "<div>\n",
       "<style scoped>\n",
       "    .dataframe tbody tr th:only-of-type {\n",
       "        vertical-align: middle;\n",
       "    }\n",
       "\n",
       "    .dataframe tbody tr th {\n",
       "        vertical-align: top;\n",
       "    }\n",
       "\n",
       "    .dataframe thead th {\n",
       "        text-align: right;\n",
       "    }\n",
       "</style>\n",
       "<table border=\"1\" class=\"dataframe\">\n",
       "  <thead>\n",
       "    <tr style=\"text-align: right;\">\n",
       "      <th></th>\n",
       "      <th>PassengerId</th>\n",
       "      <th>Survived</th>\n",
       "      <th>Pclass</th>\n",
       "      <th>Name</th>\n",
       "      <th>Sex</th>\n",
       "      <th>Age</th>\n",
       "      <th>SibSp</th>\n",
       "      <th>Parch</th>\n",
       "      <th>Ticket</th>\n",
       "      <th>Fare</th>\n",
       "      <th>Cabin</th>\n",
       "      <th>Embarked</th>\n",
       "    </tr>\n",
       "  </thead>\n",
       "  <tbody>\n",
       "    <tr>\n",
       "      <th>0</th>\n",
       "      <td>1</td>\n",
       "      <td>0</td>\n",
       "      <td>3</td>\n",
       "      <td>Braund, Mr. Owen Harris</td>\n",
       "      <td>male</td>\n",
       "      <td>22.0</td>\n",
       "      <td>1</td>\n",
       "      <td>0</td>\n",
       "      <td>A/5 21171</td>\n",
       "      <td>7.2500</td>\n",
       "      <td>NaN</td>\n",
       "      <td>S</td>\n",
       "    </tr>\n",
       "    <tr>\n",
       "      <th>1</th>\n",
       "      <td>2</td>\n",
       "      <td>1</td>\n",
       "      <td>1</td>\n",
       "      <td>Cumings, Mrs. John Bradley (Florence Briggs Th...</td>\n",
       "      <td>female</td>\n",
       "      <td>38.0</td>\n",
       "      <td>1</td>\n",
       "      <td>0</td>\n",
       "      <td>PC 17599</td>\n",
       "      <td>71.2833</td>\n",
       "      <td>C85</td>\n",
       "      <td>C</td>\n",
       "    </tr>\n",
       "    <tr>\n",
       "      <th>2</th>\n",
       "      <td>3</td>\n",
       "      <td>1</td>\n",
       "      <td>3</td>\n",
       "      <td>Heikkinen, Miss. Laina</td>\n",
       "      <td>female</td>\n",
       "      <td>26.0</td>\n",
       "      <td>0</td>\n",
       "      <td>0</td>\n",
       "      <td>STON/O2. 3101282</td>\n",
       "      <td>7.9250</td>\n",
       "      <td>NaN</td>\n",
       "      <td>S</td>\n",
       "    </tr>\n",
       "    <tr>\n",
       "      <th>3</th>\n",
       "      <td>4</td>\n",
       "      <td>1</td>\n",
       "      <td>1</td>\n",
       "      <td>Futrelle, Mrs. Jacques Heath (Lily May Peel)</td>\n",
       "      <td>female</td>\n",
       "      <td>35.0</td>\n",
       "      <td>1</td>\n",
       "      <td>0</td>\n",
       "      <td>113803</td>\n",
       "      <td>53.1000</td>\n",
       "      <td>C123</td>\n",
       "      <td>S</td>\n",
       "    </tr>\n",
       "    <tr>\n",
       "      <th>4</th>\n",
       "      <td>5</td>\n",
       "      <td>0</td>\n",
       "      <td>3</td>\n",
       "      <td>Allen, Mr. William Henry</td>\n",
       "      <td>male</td>\n",
       "      <td>35.0</td>\n",
       "      <td>0</td>\n",
       "      <td>0</td>\n",
       "      <td>373450</td>\n",
       "      <td>8.0500</td>\n",
       "      <td>NaN</td>\n",
       "      <td>S</td>\n",
       "    </tr>\n",
       "  </tbody>\n",
       "</table>\n",
       "</div>"
      ],
      "text/plain": [
       "   PassengerId  Survived  Pclass  \\\n",
       "0            1         0       3   \n",
       "1            2         1       1   \n",
       "2            3         1       3   \n",
       "3            4         1       1   \n",
       "4            5         0       3   \n",
       "\n",
       "                                                Name     Sex   Age  SibSp  \\\n",
       "0                            Braund, Mr. Owen Harris    male  22.0      1   \n",
       "1  Cumings, Mrs. John Bradley (Florence Briggs Th...  female  38.0      1   \n",
       "2                             Heikkinen, Miss. Laina  female  26.0      0   \n",
       "3       Futrelle, Mrs. Jacques Heath (Lily May Peel)  female  35.0      1   \n",
       "4                           Allen, Mr. William Henry    male  35.0      0   \n",
       "\n",
       "   Parch            Ticket     Fare Cabin Embarked  \n",
       "0      0         A/5 21171   7.2500   NaN        S  \n",
       "1      0          PC 17599  71.2833   C85        C  \n",
       "2      0  STON/O2. 3101282   7.9250   NaN        S  \n",
       "3      0            113803  53.1000  C123        S  \n",
       "4      0            373450   8.0500   NaN        S  "
      ]
     },
     "execution_count": 6,
     "metadata": {},
     "output_type": "execute_result"
    }
   ],
   "source": [
    "data.head()"
   ]
  },
  {
   "cell_type": "code",
   "execution_count": 7,
   "metadata": {},
   "outputs": [
    {
     "data": {
      "text/plain": [
       "(1309, 12)"
      ]
     },
     "execution_count": 7,
     "metadata": {},
     "output_type": "execute_result"
    }
   ],
   "source": [
    "data.shape"
   ]
  },
  {
   "cell_type": "code",
   "execution_count": 341,
   "metadata": {},
   "outputs": [
    {
     "data": {
      "text/plain": [
       "(1270, 18)"
      ]
     },
     "execution_count": 341,
     "metadata": {},
     "output_type": "execute_result"
    }
   ],
   "source": [
    "clear_data.shape"
   ]
  },
  {
   "cell_type": "code",
   "execution_count": 331,
   "metadata": {},
   "outputs": [
    {
     "name": "stdout",
     "output_type": "stream",
     "text": [
      "<class 'pandas.core.frame.DataFrame'>\n",
      "RangeIndex: 1270 entries, 0 to 1269\n",
      "Data columns (total 18 columns):\n",
      " #   Column              Non-Null Count  Dtype  \n",
      "---  ------              --------------  -----  \n",
      " 0   PassengerId         1270 non-null   int64  \n",
      " 1   Survived            864 non-null    float64\n",
      " 2   Pclass              1270 non-null   int64  \n",
      " 3   Name                1270 non-null   object \n",
      " 4   NameLength          1270 non-null   int64  \n",
      " 5   Sex                 1270 non-null   object \n",
      " 6   SibSpouse           1270 non-null   int64  \n",
      " 7   ParentsChild        1270 non-null   int64  \n",
      " 8   TicketNumber        1270 non-null   object \n",
      " 9   Cabin               290 non-null    object \n",
      " 10  Age_Months          1270 non-null   int64  \n",
      " 11  HometownCountry     1265 non-null   object \n",
      " 12  Boarded             1265 non-null   object \n",
      " 13  Destination         1265 non-null   object \n",
      " 14  DestinationCountry  1265 non-null   object \n",
      " 15  Lifeboat            483 non-null    object \n",
      " 16  LifeboatSupport     1270 non-null   object \n",
      " 17  Fare_new            1270 non-null   float64\n",
      "dtypes: float64(2), int64(6), object(10)\n",
      "memory usage: 178.7+ KB\n"
     ]
    }
   ],
   "source": [
    "clear_data.info()"
   ]
  },
  {
   "cell_type": "code",
   "execution_count": 8,
   "metadata": {},
   "outputs": [],
   "source": [
    "from sklearn.model_selection import train_test_split"
   ]
  },
  {
   "cell_type": "code",
   "execution_count": 9,
   "metadata": {},
   "outputs": [],
   "source": [
    "X = data.drop(['PassengerId','Name','Ticket','Cabin'],axis=1)"
   ]
  },
  {
   "cell_type": "code",
   "execution_count": 343,
   "metadata": {},
   "outputs": [],
   "source": [
    "clear_X = clear_data.drop(['Name','TicketNumber','Cabin','Lifeboat'],axis=1)"
   ]
  },
  {
   "cell_type": "code",
   "execution_count": 344,
   "metadata": {},
   "outputs": [
    {
     "data": {
      "text/html": [
       "<div>\n",
       "<style scoped>\n",
       "    .dataframe tbody tr th:only-of-type {\n",
       "        vertical-align: middle;\n",
       "    }\n",
       "\n",
       "    .dataframe tbody tr th {\n",
       "        vertical-align: top;\n",
       "    }\n",
       "\n",
       "    .dataframe thead th {\n",
       "        text-align: right;\n",
       "    }\n",
       "</style>\n",
       "<table border=\"1\" class=\"dataframe\">\n",
       "  <thead>\n",
       "    <tr style=\"text-align: right;\">\n",
       "      <th></th>\n",
       "      <th>PassengerId</th>\n",
       "      <th>Survived</th>\n",
       "      <th>Pclass</th>\n",
       "      <th>Name</th>\n",
       "      <th>NameLength</th>\n",
       "      <th>Sex</th>\n",
       "      <th>SibSpouse</th>\n",
       "      <th>ParentsChild</th>\n",
       "      <th>TicketNumber</th>\n",
       "      <th>Cabin</th>\n",
       "      <th>Age_Months</th>\n",
       "      <th>HometownCountry</th>\n",
       "      <th>Boarded</th>\n",
       "      <th>Destination</th>\n",
       "      <th>DestinationCountry</th>\n",
       "      <th>Lifeboat</th>\n",
       "      <th>LifeboatSupport</th>\n",
       "      <th>Fare_new</th>\n",
       "    </tr>\n",
       "  </thead>\n",
       "  <tbody>\n",
       "    <tr>\n",
       "      <th>0</th>\n",
       "      <td>1</td>\n",
       "      <td>0.0</td>\n",
       "      <td>3</td>\n",
       "      <td>Braund, Mr. Owen Harris</td>\n",
       "      <td>23</td>\n",
       "      <td>male</td>\n",
       "      <td>1</td>\n",
       "      <td>0</td>\n",
       "      <td>A/5 21171</td>\n",
       "      <td>NaN</td>\n",
       "      <td>264</td>\n",
       "      <td>England</td>\n",
       "      <td>Southampton</td>\n",
       "      <td>Qu'Appelle Valley, Saskatchewan, Canada</td>\n",
       "      <td>Canada</td>\n",
       "      <td>NaN</td>\n",
       "      <td>No</td>\n",
       "      <td>1.945910</td>\n",
       "    </tr>\n",
       "    <tr>\n",
       "      <th>1</th>\n",
       "      <td>2</td>\n",
       "      <td>1.0</td>\n",
       "      <td>1</td>\n",
       "      <td>Cumings, Mrs. John Bradley</td>\n",
       "      <td>27</td>\n",
       "      <td>female</td>\n",
       "      <td>1</td>\n",
       "      <td>0</td>\n",
       "      <td>PC 17599</td>\n",
       "      <td>C85</td>\n",
       "      <td>420</td>\n",
       "      <td>US</td>\n",
       "      <td>Cherbourg</td>\n",
       "      <td>New York, New York, US</td>\n",
       "      <td>US</td>\n",
       "      <td>4</td>\n",
       "      <td>Yes</td>\n",
       "      <td>4.262680</td>\n",
       "    </tr>\n",
       "    <tr>\n",
       "      <th>2</th>\n",
       "      <td>3</td>\n",
       "      <td>1.0</td>\n",
       "      <td>3</td>\n",
       "      <td>Heikkinen, Miss. Laina</td>\n",
       "      <td>22</td>\n",
       "      <td>female</td>\n",
       "      <td>0</td>\n",
       "      <td>0</td>\n",
       "      <td>STON/O2. 3101282</td>\n",
       "      <td>NaN</td>\n",
       "      <td>312</td>\n",
       "      <td>Finland</td>\n",
       "      <td>Southampton</td>\n",
       "      <td>New York City</td>\n",
       "      <td>US</td>\n",
       "      <td>14</td>\n",
       "      <td>Yes</td>\n",
       "      <td>1.945910</td>\n",
       "    </tr>\n",
       "    <tr>\n",
       "      <th>3</th>\n",
       "      <td>4</td>\n",
       "      <td>1.0</td>\n",
       "      <td>1</td>\n",
       "      <td>Futrelle, Mrs. Jacques Heath</td>\n",
       "      <td>29</td>\n",
       "      <td>female</td>\n",
       "      <td>1</td>\n",
       "      <td>0</td>\n",
       "      <td>113803</td>\n",
       "      <td>C123</td>\n",
       "      <td>420</td>\n",
       "      <td>US</td>\n",
       "      <td>Southampton</td>\n",
       "      <td>Scituate, Massachusetts, US</td>\n",
       "      <td>US</td>\n",
       "      <td>D</td>\n",
       "      <td>Yes</td>\n",
       "      <td>3.970292</td>\n",
       "    </tr>\n",
       "    <tr>\n",
       "      <th>4</th>\n",
       "      <td>5</td>\n",
       "      <td>0.0</td>\n",
       "      <td>3</td>\n",
       "      <td>Allen, Mr. William Henry</td>\n",
       "      <td>24</td>\n",
       "      <td>male</td>\n",
       "      <td>0</td>\n",
       "      <td>0</td>\n",
       "      <td>373450</td>\n",
       "      <td>NaN</td>\n",
       "      <td>420</td>\n",
       "      <td>England</td>\n",
       "      <td>Southampton</td>\n",
       "      <td>New York City</td>\n",
       "      <td>US</td>\n",
       "      <td>NaN</td>\n",
       "      <td>No</td>\n",
       "      <td>2.079442</td>\n",
       "    </tr>\n",
       "  </tbody>\n",
       "</table>\n",
       "</div>"
      ],
      "text/plain": [
       "   PassengerId  Survived  Pclass                           Name  NameLength  \\\n",
       "0            1       0.0       3        Braund, Mr. Owen Harris          23   \n",
       "1            2       1.0       1    Cumings, Mrs. John Bradley           27   \n",
       "2            3       1.0       3         Heikkinen, Miss. Laina          22   \n",
       "3            4       1.0       1  Futrelle, Mrs. Jacques Heath           29   \n",
       "4            5       0.0       3       Allen, Mr. William Henry          24   \n",
       "\n",
       "      Sex  SibSpouse  ParentsChild      TicketNumber Cabin  Age_Months  \\\n",
       "0    male          1             0         A/5 21171   NaN         264   \n",
       "1  female          1             0          PC 17599   C85         420   \n",
       "2  female          0             0  STON/O2. 3101282   NaN         312   \n",
       "3  female          1             0            113803  C123         420   \n",
       "4    male          0             0            373450   NaN         420   \n",
       "\n",
       "  HometownCountry      Boarded                              Destination  \\\n",
       "0         England  Southampton  Qu'Appelle Valley, Saskatchewan, Canada   \n",
       "1              US    Cherbourg                   New York, New York, US   \n",
       "2         Finland  Southampton                            New York City   \n",
       "3              US  Southampton              Scituate, Massachusetts, US   \n",
       "4         England  Southampton                            New York City   \n",
       "\n",
       "  DestinationCountry Lifeboat LifeboatSupport  Fare_new  \n",
       "0             Canada      NaN              No  1.945910  \n",
       "1                 US        4             Yes  4.262680  \n",
       "2                 US       14             Yes  1.945910  \n",
       "3                 US        D             Yes  3.970292  \n",
       "4                 US      NaN              No  2.079442  "
      ]
     },
     "execution_count": 344,
     "metadata": {},
     "output_type": "execute_result"
    }
   ],
   "source": [
    "clear_data.head()"
   ]
  },
  {
   "cell_type": "code",
   "execution_count": 345,
   "metadata": {},
   "outputs": [
    {
     "data": {
      "text/html": [
       "<div>\n",
       "<style scoped>\n",
       "    .dataframe tbody tr th:only-of-type {\n",
       "        vertical-align: middle;\n",
       "    }\n",
       "\n",
       "    .dataframe tbody tr th {\n",
       "        vertical-align: top;\n",
       "    }\n",
       "\n",
       "    .dataframe thead th {\n",
       "        text-align: right;\n",
       "    }\n",
       "</style>\n",
       "<table border=\"1\" class=\"dataframe\">\n",
       "  <thead>\n",
       "    <tr style=\"text-align: right;\">\n",
       "      <th></th>\n",
       "      <th>PassengerId</th>\n",
       "      <th>Survived</th>\n",
       "      <th>Pclass</th>\n",
       "      <th>NameLength</th>\n",
       "      <th>Sex</th>\n",
       "      <th>SibSpouse</th>\n",
       "      <th>ParentsChild</th>\n",
       "      <th>Age_Months</th>\n",
       "      <th>HometownCountry</th>\n",
       "      <th>Boarded</th>\n",
       "      <th>Destination</th>\n",
       "      <th>DestinationCountry</th>\n",
       "      <th>LifeboatSupport</th>\n",
       "      <th>Fare_new</th>\n",
       "    </tr>\n",
       "  </thead>\n",
       "  <tbody>\n",
       "    <tr>\n",
       "      <th>0</th>\n",
       "      <td>1</td>\n",
       "      <td>0.0</td>\n",
       "      <td>3</td>\n",
       "      <td>23</td>\n",
       "      <td>male</td>\n",
       "      <td>1</td>\n",
       "      <td>0</td>\n",
       "      <td>264</td>\n",
       "      <td>England</td>\n",
       "      <td>Southampton</td>\n",
       "      <td>Qu'Appelle Valley, Saskatchewan, Canada</td>\n",
       "      <td>Canada</td>\n",
       "      <td>No</td>\n",
       "      <td>1.945910</td>\n",
       "    </tr>\n",
       "    <tr>\n",
       "      <th>1</th>\n",
       "      <td>2</td>\n",
       "      <td>1.0</td>\n",
       "      <td>1</td>\n",
       "      <td>27</td>\n",
       "      <td>female</td>\n",
       "      <td>1</td>\n",
       "      <td>0</td>\n",
       "      <td>420</td>\n",
       "      <td>US</td>\n",
       "      <td>Cherbourg</td>\n",
       "      <td>New York, New York, US</td>\n",
       "      <td>US</td>\n",
       "      <td>Yes</td>\n",
       "      <td>4.262680</td>\n",
       "    </tr>\n",
       "    <tr>\n",
       "      <th>2</th>\n",
       "      <td>3</td>\n",
       "      <td>1.0</td>\n",
       "      <td>3</td>\n",
       "      <td>22</td>\n",
       "      <td>female</td>\n",
       "      <td>0</td>\n",
       "      <td>0</td>\n",
       "      <td>312</td>\n",
       "      <td>Finland</td>\n",
       "      <td>Southampton</td>\n",
       "      <td>New York City</td>\n",
       "      <td>US</td>\n",
       "      <td>Yes</td>\n",
       "      <td>1.945910</td>\n",
       "    </tr>\n",
       "    <tr>\n",
       "      <th>3</th>\n",
       "      <td>4</td>\n",
       "      <td>1.0</td>\n",
       "      <td>1</td>\n",
       "      <td>29</td>\n",
       "      <td>female</td>\n",
       "      <td>1</td>\n",
       "      <td>0</td>\n",
       "      <td>420</td>\n",
       "      <td>US</td>\n",
       "      <td>Southampton</td>\n",
       "      <td>Scituate, Massachusetts, US</td>\n",
       "      <td>US</td>\n",
       "      <td>Yes</td>\n",
       "      <td>3.970292</td>\n",
       "    </tr>\n",
       "    <tr>\n",
       "      <th>4</th>\n",
       "      <td>5</td>\n",
       "      <td>0.0</td>\n",
       "      <td>3</td>\n",
       "      <td>24</td>\n",
       "      <td>male</td>\n",
       "      <td>0</td>\n",
       "      <td>0</td>\n",
       "      <td>420</td>\n",
       "      <td>England</td>\n",
       "      <td>Southampton</td>\n",
       "      <td>New York City</td>\n",
       "      <td>US</td>\n",
       "      <td>No</td>\n",
       "      <td>2.079442</td>\n",
       "    </tr>\n",
       "  </tbody>\n",
       "</table>\n",
       "</div>"
      ],
      "text/plain": [
       "   PassengerId  Survived  Pclass  NameLength     Sex  SibSpouse  ParentsChild  \\\n",
       "0            1       0.0       3          23    male          1             0   \n",
       "1            2       1.0       1          27  female          1             0   \n",
       "2            3       1.0       3          22  female          0             0   \n",
       "3            4       1.0       1          29  female          1             0   \n",
       "4            5       0.0       3          24    male          0             0   \n",
       "\n",
       "   Age_Months HometownCountry      Boarded  \\\n",
       "0         264         England  Southampton   \n",
       "1         420              US    Cherbourg   \n",
       "2         312         Finland  Southampton   \n",
       "3         420              US  Southampton   \n",
       "4         420         England  Southampton   \n",
       "\n",
       "                               Destination DestinationCountry LifeboatSupport  \\\n",
       "0  Qu'Appelle Valley, Saskatchewan, Canada             Canada              No   \n",
       "1                   New York, New York, US                 US             Yes   \n",
       "2                            New York City                 US             Yes   \n",
       "3              Scituate, Massachusetts, US                 US             Yes   \n",
       "4                            New York City                 US              No   \n",
       "\n",
       "   Fare_new  \n",
       "0  1.945910  \n",
       "1  4.262680  \n",
       "2  1.945910  \n",
       "3  3.970292  \n",
       "4  2.079442  "
      ]
     },
     "execution_count": 345,
     "metadata": {},
     "output_type": "execute_result"
    }
   ],
   "source": [
    "clear_X.head()"
   ]
  },
  {
   "cell_type": "code",
   "execution_count": 347,
   "metadata": {},
   "outputs": [
    {
     "name": "stdout",
     "output_type": "stream",
     "text": [
      "<class 'pandas.core.frame.DataFrame'>\n",
      "RangeIndex: 1270 entries, 0 to 1269\n",
      "Data columns (total 14 columns):\n",
      " #   Column              Non-Null Count  Dtype  \n",
      "---  ------              --------------  -----  \n",
      " 0   PassengerId         1270 non-null   int64  \n",
      " 1   Survived            864 non-null    float64\n",
      " 2   Pclass              1270 non-null   int64  \n",
      " 3   NameLength          1270 non-null   int64  \n",
      " 4   Sex                 1270 non-null   object \n",
      " 5   SibSpouse           1270 non-null   int64  \n",
      " 6   ParentsChild        1270 non-null   int64  \n",
      " 7   Age_Months          1270 non-null   int64  \n",
      " 8   HometownCountry     1265 non-null   object \n",
      " 9   Boarded             1265 non-null   object \n",
      " 10  Destination         1265 non-null   object \n",
      " 11  DestinationCountry  1265 non-null   object \n",
      " 12  LifeboatSupport     1270 non-null   object \n",
      " 13  Fare_new            1270 non-null   float64\n",
      "dtypes: float64(2), int64(6), object(6)\n",
      "memory usage: 139.0+ KB\n"
     ]
    }
   ],
   "source": [
    "clear_X.info()"
   ]
  },
  {
   "cell_type": "code",
   "execution_count": 11,
   "metadata": {},
   "outputs": [],
   "source": [
    "X['Pclass'] = X['Pclass'].astype('category')\n",
    "X['Sex'] = X['Sex'].astype('category')\n",
    "X['Embarked'] = X['Embarked'].astype('category')"
   ]
  },
  {
   "cell_type": "code",
   "execution_count": 12,
   "metadata": {},
   "outputs": [],
   "source": [
    "X['Age'] = X['Age'].fillna(X['Age'].mean())"
   ]
  },
  {
   "cell_type": "code",
   "execution_count": 13,
   "metadata": {},
   "outputs": [],
   "source": [
    "X = X.dropna()"
   ]
  },
  {
   "cell_type": "code",
   "execution_count": 348,
   "metadata": {},
   "outputs": [],
   "source": [
    "clear_X = clear_X.dropna()"
   ]
  },
  {
   "cell_type": "code",
   "execution_count": 14,
   "metadata": {},
   "outputs": [
    {
     "name": "stdout",
     "output_type": "stream",
     "text": [
      "<class 'pandas.core.frame.DataFrame'>\n",
      "Int64Index: 1306 entries, 0 to 1308\n",
      "Data columns (total 8 columns):\n",
      " #   Column    Non-Null Count  Dtype   \n",
      "---  ------    --------------  -----   \n",
      " 0   Survived  1306 non-null   int64   \n",
      " 1   Pclass    1306 non-null   category\n",
      " 2   Sex       1306 non-null   category\n",
      " 3   Age       1306 non-null   float64 \n",
      " 4   SibSp     1306 non-null   int64   \n",
      " 5   Parch     1306 non-null   int64   \n",
      " 6   Fare      1306 non-null   float64 \n",
      " 7   Embarked  1306 non-null   category\n",
      "dtypes: category(3), float64(2), int64(3)\n",
      "memory usage: 65.3 KB\n"
     ]
    }
   ],
   "source": [
    "X.info()"
   ]
  },
  {
   "cell_type": "code",
   "execution_count": 349,
   "metadata": {},
   "outputs": [
    {
     "name": "stdout",
     "output_type": "stream",
     "text": [
      "<class 'pandas.core.frame.DataFrame'>\n",
      "Int64Index: 862 entries, 0 to 863\n",
      "Data columns (total 14 columns):\n",
      " #   Column              Non-Null Count  Dtype  \n",
      "---  ------              --------------  -----  \n",
      " 0   PassengerId         862 non-null    int64  \n",
      " 1   Survived            862 non-null    float64\n",
      " 2   Pclass              862 non-null    int64  \n",
      " 3   NameLength          862 non-null    int64  \n",
      " 4   Sex                 862 non-null    object \n",
      " 5   SibSpouse           862 non-null    int64  \n",
      " 6   ParentsChild        862 non-null    int64  \n",
      " 7   Age_Months          862 non-null    int64  \n",
      " 8   HometownCountry     862 non-null    object \n",
      " 9   Boarded             862 non-null    object \n",
      " 10  Destination         862 non-null    object \n",
      " 11  DestinationCountry  862 non-null    object \n",
      " 12  LifeboatSupport     862 non-null    object \n",
      " 13  Fare_new            862 non-null    float64\n",
      "dtypes: float64(2), int64(6), object(6)\n",
      "memory usage: 101.0+ KB\n"
     ]
    }
   ],
   "source": [
    "clear_X.info()"
   ]
  },
  {
   "cell_type": "code",
   "execution_count": 15,
   "metadata": {},
   "outputs": [
    {
     "data": {
      "text/html": [
       "<div>\n",
       "<style scoped>\n",
       "    .dataframe tbody tr th:only-of-type {\n",
       "        vertical-align: middle;\n",
       "    }\n",
       "\n",
       "    .dataframe tbody tr th {\n",
       "        vertical-align: top;\n",
       "    }\n",
       "\n",
       "    .dataframe thead th {\n",
       "        text-align: right;\n",
       "    }\n",
       "</style>\n",
       "<table border=\"1\" class=\"dataframe\">\n",
       "  <thead>\n",
       "    <tr style=\"text-align: right;\">\n",
       "      <th></th>\n",
       "      <th>Survived</th>\n",
       "      <th>Pclass</th>\n",
       "      <th>Sex</th>\n",
       "      <th>Age</th>\n",
       "      <th>SibSp</th>\n",
       "      <th>Parch</th>\n",
       "      <th>Fare</th>\n",
       "      <th>Embarked</th>\n",
       "    </tr>\n",
       "  </thead>\n",
       "  <tbody>\n",
       "    <tr>\n",
       "      <th>0</th>\n",
       "      <td>0</td>\n",
       "      <td>3</td>\n",
       "      <td>male</td>\n",
       "      <td>22.0</td>\n",
       "      <td>1</td>\n",
       "      <td>0</td>\n",
       "      <td>7.2500</td>\n",
       "      <td>S</td>\n",
       "    </tr>\n",
       "    <tr>\n",
       "      <th>1</th>\n",
       "      <td>1</td>\n",
       "      <td>1</td>\n",
       "      <td>female</td>\n",
       "      <td>38.0</td>\n",
       "      <td>1</td>\n",
       "      <td>0</td>\n",
       "      <td>71.2833</td>\n",
       "      <td>C</td>\n",
       "    </tr>\n",
       "    <tr>\n",
       "      <th>2</th>\n",
       "      <td>1</td>\n",
       "      <td>3</td>\n",
       "      <td>female</td>\n",
       "      <td>26.0</td>\n",
       "      <td>0</td>\n",
       "      <td>0</td>\n",
       "      <td>7.9250</td>\n",
       "      <td>S</td>\n",
       "    </tr>\n",
       "    <tr>\n",
       "      <th>3</th>\n",
       "      <td>1</td>\n",
       "      <td>1</td>\n",
       "      <td>female</td>\n",
       "      <td>35.0</td>\n",
       "      <td>1</td>\n",
       "      <td>0</td>\n",
       "      <td>53.1000</td>\n",
       "      <td>S</td>\n",
       "    </tr>\n",
       "    <tr>\n",
       "      <th>4</th>\n",
       "      <td>0</td>\n",
       "      <td>3</td>\n",
       "      <td>male</td>\n",
       "      <td>35.0</td>\n",
       "      <td>0</td>\n",
       "      <td>0</td>\n",
       "      <td>8.0500</td>\n",
       "      <td>S</td>\n",
       "    </tr>\n",
       "  </tbody>\n",
       "</table>\n",
       "</div>"
      ],
      "text/plain": [
       "   Survived Pclass     Sex   Age  SibSp  Parch     Fare Embarked\n",
       "0         0      3    male  22.0      1      0   7.2500        S\n",
       "1         1      1  female  38.0      1      0  71.2833        C\n",
       "2         1      3  female  26.0      0      0   7.9250        S\n",
       "3         1      1  female  35.0      1      0  53.1000        S\n",
       "4         0      3    male  35.0      0      0   8.0500        S"
      ]
     },
     "execution_count": 15,
     "metadata": {},
     "output_type": "execute_result"
    }
   ],
   "source": [
    "X.head()"
   ]
  },
  {
   "cell_type": "code",
   "execution_count": 16,
   "metadata": {},
   "outputs": [],
   "source": [
    "X = pd.get_dummies(X)"
   ]
  },
  {
   "cell_type": "code",
   "execution_count": 350,
   "metadata": {},
   "outputs": [],
   "source": [
    "clear_X = pd.get_dummies(clear_X)"
   ]
  },
  {
   "cell_type": "code",
   "execution_count": 17,
   "metadata": {},
   "outputs": [
    {
     "data": {
      "text/html": [
       "<div>\n",
       "<style scoped>\n",
       "    .dataframe tbody tr th:only-of-type {\n",
       "        vertical-align: middle;\n",
       "    }\n",
       "\n",
       "    .dataframe tbody tr th {\n",
       "        vertical-align: top;\n",
       "    }\n",
       "\n",
       "    .dataframe thead th {\n",
       "        text-align: right;\n",
       "    }\n",
       "</style>\n",
       "<table border=\"1\" class=\"dataframe\">\n",
       "  <thead>\n",
       "    <tr style=\"text-align: right;\">\n",
       "      <th></th>\n",
       "      <th>Survived</th>\n",
       "      <th>Age</th>\n",
       "      <th>SibSp</th>\n",
       "      <th>Parch</th>\n",
       "      <th>Fare</th>\n",
       "      <th>Pclass_1</th>\n",
       "      <th>Pclass_2</th>\n",
       "      <th>Pclass_3</th>\n",
       "      <th>Sex_female</th>\n",
       "      <th>Sex_male</th>\n",
       "      <th>Embarked_C</th>\n",
       "      <th>Embarked_Q</th>\n",
       "      <th>Embarked_S</th>\n",
       "    </tr>\n",
       "  </thead>\n",
       "  <tbody>\n",
       "    <tr>\n",
       "      <th>0</th>\n",
       "      <td>0</td>\n",
       "      <td>22.0</td>\n",
       "      <td>1</td>\n",
       "      <td>0</td>\n",
       "      <td>7.2500</td>\n",
       "      <td>0</td>\n",
       "      <td>0</td>\n",
       "      <td>1</td>\n",
       "      <td>0</td>\n",
       "      <td>1</td>\n",
       "      <td>0</td>\n",
       "      <td>0</td>\n",
       "      <td>1</td>\n",
       "    </tr>\n",
       "    <tr>\n",
       "      <th>1</th>\n",
       "      <td>1</td>\n",
       "      <td>38.0</td>\n",
       "      <td>1</td>\n",
       "      <td>0</td>\n",
       "      <td>71.2833</td>\n",
       "      <td>1</td>\n",
       "      <td>0</td>\n",
       "      <td>0</td>\n",
       "      <td>1</td>\n",
       "      <td>0</td>\n",
       "      <td>1</td>\n",
       "      <td>0</td>\n",
       "      <td>0</td>\n",
       "    </tr>\n",
       "    <tr>\n",
       "      <th>2</th>\n",
       "      <td>1</td>\n",
       "      <td>26.0</td>\n",
       "      <td>0</td>\n",
       "      <td>0</td>\n",
       "      <td>7.9250</td>\n",
       "      <td>0</td>\n",
       "      <td>0</td>\n",
       "      <td>1</td>\n",
       "      <td>1</td>\n",
       "      <td>0</td>\n",
       "      <td>0</td>\n",
       "      <td>0</td>\n",
       "      <td>1</td>\n",
       "    </tr>\n",
       "    <tr>\n",
       "      <th>3</th>\n",
       "      <td>1</td>\n",
       "      <td>35.0</td>\n",
       "      <td>1</td>\n",
       "      <td>0</td>\n",
       "      <td>53.1000</td>\n",
       "      <td>1</td>\n",
       "      <td>0</td>\n",
       "      <td>0</td>\n",
       "      <td>1</td>\n",
       "      <td>0</td>\n",
       "      <td>0</td>\n",
       "      <td>0</td>\n",
       "      <td>1</td>\n",
       "    </tr>\n",
       "    <tr>\n",
       "      <th>4</th>\n",
       "      <td>0</td>\n",
       "      <td>35.0</td>\n",
       "      <td>0</td>\n",
       "      <td>0</td>\n",
       "      <td>8.0500</td>\n",
       "      <td>0</td>\n",
       "      <td>0</td>\n",
       "      <td>1</td>\n",
       "      <td>0</td>\n",
       "      <td>1</td>\n",
       "      <td>0</td>\n",
       "      <td>0</td>\n",
       "      <td>1</td>\n",
       "    </tr>\n",
       "  </tbody>\n",
       "</table>\n",
       "</div>"
      ],
      "text/plain": [
       "   Survived   Age  SibSp  Parch     Fare  Pclass_1  Pclass_2  Pclass_3  \\\n",
       "0         0  22.0      1      0   7.2500         0         0         1   \n",
       "1         1  38.0      1      0  71.2833         1         0         0   \n",
       "2         1  26.0      0      0   7.9250         0         0         1   \n",
       "3         1  35.0      1      0  53.1000         1         0         0   \n",
       "4         0  35.0      0      0   8.0500         0         0         1   \n",
       "\n",
       "   Sex_female  Sex_male  Embarked_C  Embarked_Q  Embarked_S  \n",
       "0           0         1           0           0           1  \n",
       "1           1         0           1           0           0  \n",
       "2           1         0           0           0           1  \n",
       "3           1         0           0           0           1  \n",
       "4           0         1           0           0           1  "
      ]
     },
     "execution_count": 17,
     "metadata": {},
     "output_type": "execute_result"
    }
   ],
   "source": [
    "X.head()"
   ]
  },
  {
   "cell_type": "code",
   "execution_count": 351,
   "metadata": {},
   "outputs": [
    {
     "data": {
      "text/html": [
       "<div>\n",
       "<style scoped>\n",
       "    .dataframe tbody tr th:only-of-type {\n",
       "        vertical-align: middle;\n",
       "    }\n",
       "\n",
       "    .dataframe tbody tr th {\n",
       "        vertical-align: top;\n",
       "    }\n",
       "\n",
       "    .dataframe thead th {\n",
       "        text-align: right;\n",
       "    }\n",
       "</style>\n",
       "<table border=\"1\" class=\"dataframe\">\n",
       "  <thead>\n",
       "    <tr style=\"text-align: right;\">\n",
       "      <th></th>\n",
       "      <th>PassengerId</th>\n",
       "      <th>Survived</th>\n",
       "      <th>Pclass</th>\n",
       "      <th>NameLength</th>\n",
       "      <th>SibSpouse</th>\n",
       "      <th>ParentsChild</th>\n",
       "      <th>Age_Months</th>\n",
       "      <th>Fare_new</th>\n",
       "      <th>Sex_female</th>\n",
       "      <th>Sex_male</th>\n",
       "      <th>...</th>\n",
       "      <th>DestinationCountry_Canada</th>\n",
       "      <th>DestinationCountry_Cuba</th>\n",
       "      <th>DestinationCountry_Haiti</th>\n",
       "      <th>DestinationCountry_Japan</th>\n",
       "      <th>DestinationCountry_Mexico</th>\n",
       "      <th>DestinationCountry_Peru</th>\n",
       "      <th>DestinationCountry_US</th>\n",
       "      <th>DestinationCountry_Uruguay</th>\n",
       "      <th>LifeboatSupport_No</th>\n",
       "      <th>LifeboatSupport_Yes</th>\n",
       "    </tr>\n",
       "  </thead>\n",
       "  <tbody>\n",
       "    <tr>\n",
       "      <th>0</th>\n",
       "      <td>1</td>\n",
       "      <td>0.0</td>\n",
       "      <td>3</td>\n",
       "      <td>23</td>\n",
       "      <td>1</td>\n",
       "      <td>0</td>\n",
       "      <td>264</td>\n",
       "      <td>1.945910</td>\n",
       "      <td>0</td>\n",
       "      <td>1</td>\n",
       "      <td>...</td>\n",
       "      <td>1</td>\n",
       "      <td>0</td>\n",
       "      <td>0</td>\n",
       "      <td>0</td>\n",
       "      <td>0</td>\n",
       "      <td>0</td>\n",
       "      <td>0</td>\n",
       "      <td>0</td>\n",
       "      <td>1</td>\n",
       "      <td>0</td>\n",
       "    </tr>\n",
       "    <tr>\n",
       "      <th>1</th>\n",
       "      <td>2</td>\n",
       "      <td>1.0</td>\n",
       "      <td>1</td>\n",
       "      <td>27</td>\n",
       "      <td>1</td>\n",
       "      <td>0</td>\n",
       "      <td>420</td>\n",
       "      <td>4.262680</td>\n",
       "      <td>1</td>\n",
       "      <td>0</td>\n",
       "      <td>...</td>\n",
       "      <td>0</td>\n",
       "      <td>0</td>\n",
       "      <td>0</td>\n",
       "      <td>0</td>\n",
       "      <td>0</td>\n",
       "      <td>0</td>\n",
       "      <td>1</td>\n",
       "      <td>0</td>\n",
       "      <td>0</td>\n",
       "      <td>1</td>\n",
       "    </tr>\n",
       "    <tr>\n",
       "      <th>2</th>\n",
       "      <td>3</td>\n",
       "      <td>1.0</td>\n",
       "      <td>3</td>\n",
       "      <td>22</td>\n",
       "      <td>0</td>\n",
       "      <td>0</td>\n",
       "      <td>312</td>\n",
       "      <td>1.945910</td>\n",
       "      <td>1</td>\n",
       "      <td>0</td>\n",
       "      <td>...</td>\n",
       "      <td>0</td>\n",
       "      <td>0</td>\n",
       "      <td>0</td>\n",
       "      <td>0</td>\n",
       "      <td>0</td>\n",
       "      <td>0</td>\n",
       "      <td>1</td>\n",
       "      <td>0</td>\n",
       "      <td>0</td>\n",
       "      <td>1</td>\n",
       "    </tr>\n",
       "    <tr>\n",
       "      <th>3</th>\n",
       "      <td>4</td>\n",
       "      <td>1.0</td>\n",
       "      <td>1</td>\n",
       "      <td>29</td>\n",
       "      <td>1</td>\n",
       "      <td>0</td>\n",
       "      <td>420</td>\n",
       "      <td>3.970292</td>\n",
       "      <td>1</td>\n",
       "      <td>0</td>\n",
       "      <td>...</td>\n",
       "      <td>0</td>\n",
       "      <td>0</td>\n",
       "      <td>0</td>\n",
       "      <td>0</td>\n",
       "      <td>0</td>\n",
       "      <td>0</td>\n",
       "      <td>1</td>\n",
       "      <td>0</td>\n",
       "      <td>0</td>\n",
       "      <td>1</td>\n",
       "    </tr>\n",
       "    <tr>\n",
       "      <th>4</th>\n",
       "      <td>5</td>\n",
       "      <td>0.0</td>\n",
       "      <td>3</td>\n",
       "      <td>24</td>\n",
       "      <td>0</td>\n",
       "      <td>0</td>\n",
       "      <td>420</td>\n",
       "      <td>2.079442</td>\n",
       "      <td>0</td>\n",
       "      <td>1</td>\n",
       "      <td>...</td>\n",
       "      <td>0</td>\n",
       "      <td>0</td>\n",
       "      <td>0</td>\n",
       "      <td>0</td>\n",
       "      <td>0</td>\n",
       "      <td>0</td>\n",
       "      <td>1</td>\n",
       "      <td>0</td>\n",
       "      <td>1</td>\n",
       "      <td>0</td>\n",
       "    </tr>\n",
       "  </tbody>\n",
       "</table>\n",
       "<p>5 rows × 298 columns</p>\n",
       "</div>"
      ],
      "text/plain": [
       "   PassengerId  Survived  Pclass  NameLength  SibSpouse  ParentsChild  \\\n",
       "0            1       0.0       3          23          1             0   \n",
       "1            2       1.0       1          27          1             0   \n",
       "2            3       1.0       3          22          0             0   \n",
       "3            4       1.0       1          29          1             0   \n",
       "4            5       0.0       3          24          0             0   \n",
       "\n",
       "   Age_Months  Fare_new  Sex_female  Sex_male  ...  DestinationCountry_Canada  \\\n",
       "0         264  1.945910           0         1  ...                          1   \n",
       "1         420  4.262680           1         0  ...                          0   \n",
       "2         312  1.945910           1         0  ...                          0   \n",
       "3         420  3.970292           1         0  ...                          0   \n",
       "4         420  2.079442           0         1  ...                          0   \n",
       "\n",
       "   DestinationCountry_Cuba  DestinationCountry_Haiti  \\\n",
       "0                        0                         0   \n",
       "1                        0                         0   \n",
       "2                        0                         0   \n",
       "3                        0                         0   \n",
       "4                        0                         0   \n",
       "\n",
       "   DestinationCountry_Japan  DestinationCountry_Mexico  \\\n",
       "0                         0                          0   \n",
       "1                         0                          0   \n",
       "2                         0                          0   \n",
       "3                         0                          0   \n",
       "4                         0                          0   \n",
       "\n",
       "   DestinationCountry_Peru  DestinationCountry_US  DestinationCountry_Uruguay  \\\n",
       "0                        0                      0                           0   \n",
       "1                        0                      1                           0   \n",
       "2                        0                      1                           0   \n",
       "3                        0                      1                           0   \n",
       "4                        0                      1                           0   \n",
       "\n",
       "   LifeboatSupport_No  LifeboatSupport_Yes  \n",
       "0                   1                    0  \n",
       "1                   0                    1  \n",
       "2                   0                    1  \n",
       "3                   0                    1  \n",
       "4                   1                    0  \n",
       "\n",
       "[5 rows x 298 columns]"
      ]
     },
     "execution_count": 351,
     "metadata": {},
     "output_type": "execute_result"
    }
   ],
   "source": [
    "clear_X.head()"
   ]
  },
  {
   "cell_type": "code",
   "execution_count": 353,
   "metadata": {},
   "outputs": [
    {
     "data": {
      "text/plain": [
       "(862, 298)"
      ]
     },
     "execution_count": 353,
     "metadata": {},
     "output_type": "execute_result"
    }
   ],
   "source": [
    "clear_X.shape"
   ]
  },
  {
   "cell_type": "code",
   "execution_count": 75,
   "metadata": {},
   "outputs": [],
   "source": [
    "from sklearn.preprocessing import StandardScaler"
   ]
  },
  {
   "cell_type": "code",
   "execution_count": 85,
   "metadata": {},
   "outputs": [],
   "source": [
    "scaler = StandardScaler()"
   ]
  },
  {
   "cell_type": "code",
   "execution_count": 26,
   "metadata": {},
   "outputs": [],
   "source": [
    "y = X['Survived']\n",
    "X = X.drop('Survived',axis = 1)"
   ]
  },
  {
   "cell_type": "code",
   "execution_count": 354,
   "metadata": {},
   "outputs": [],
   "source": [
    "clear_y = clear_X['Survived']\n",
    "clear_X = clear_X.drop('Survived',axis = 1)"
   ]
  },
  {
   "cell_type": "code",
   "execution_count": 30,
   "metadata": {},
   "outputs": [],
   "source": [
    "X_train, X_test, y_train, y_test = train_test_split(X,y,test_size=0.33, random_state=42 )"
   ]
  },
  {
   "cell_type": "code",
   "execution_count": 355,
   "metadata": {},
   "outputs": [],
   "source": [
    "cX_train, cX_test, cy_train, cy_test = train_test_split(clear_X,clear_y,test_size=0.33, random_state=42 )"
   ]
  },
  {
   "cell_type": "code",
   "execution_count": 32,
   "metadata": {},
   "outputs": [],
   "source": [
    "from sklearn.ensemble import RandomForestClassifier"
   ]
  },
  {
   "cell_type": "code",
   "execution_count": 33,
   "metadata": {},
   "outputs": [],
   "source": [
    "rnd_clf = RandomForestClassifier()"
   ]
  },
  {
   "cell_type": "code",
   "execution_count": 35,
   "metadata": {},
   "outputs": [
    {
     "data": {
      "text/plain": [
       "RandomForestClassifier()"
      ]
     },
     "execution_count": 35,
     "metadata": {},
     "output_type": "execute_result"
    }
   ],
   "source": [
    "rnd_clf.fit(X_train,y_train)"
   ]
  },
  {
   "cell_type": "code",
   "execution_count": 357,
   "metadata": {},
   "outputs": [
    {
     "data": {
      "text/plain": [
       "RandomForestClassifier()"
      ]
     },
     "execution_count": 357,
     "metadata": {},
     "output_type": "execute_result"
    }
   ],
   "source": [
    "rnd_clf.fit(cX_train,cy_train)"
   ]
  },
  {
   "cell_type": "code",
   "execution_count": 36,
   "metadata": {},
   "outputs": [],
   "source": [
    "from sklearn.metrics import accuracy_score"
   ]
  },
  {
   "cell_type": "code",
   "execution_count": 361,
   "metadata": {},
   "outputs": [],
   "source": [
    "cy_pred = rnd_clf.predict(cX_test)"
   ]
  },
  {
   "cell_type": "code",
   "execution_count": 362,
   "metadata": {},
   "outputs": [
    {
     "data": {
      "text/plain": [
       "0.9964912280701754"
      ]
     },
     "execution_count": 362,
     "metadata": {},
     "output_type": "execute_result"
    }
   ],
   "source": [
    "accuracy_score(cy_pred,cy_test)"
   ]
  },
  {
   "cell_type": "markdown",
   "metadata": {},
   "source": [
    "## Другой классификатор"
   ]
  },
  {
   "cell_type": "code",
   "execution_count": 39,
   "metadata": {},
   "outputs": [],
   "source": [
    "from sklearn.ensemble import GradientBoostingClassifier"
   ]
  },
  {
   "cell_type": "code",
   "execution_count": 40,
   "metadata": {},
   "outputs": [],
   "source": [
    "grb_clf = GradientBoostingClassifier()"
   ]
  },
  {
   "cell_type": "code",
   "execution_count": 363,
   "metadata": {},
   "outputs": [
    {
     "data": {
      "text/plain": [
       "GradientBoostingClassifier()"
      ]
     },
     "execution_count": 363,
     "metadata": {},
     "output_type": "execute_result"
    }
   ],
   "source": [
    "grb_clf.fit(cX_train,cy_train)"
   ]
  },
  {
   "cell_type": "code",
   "execution_count": 44,
   "metadata": {},
   "outputs": [],
   "source": [
    "cy_pred = grb_clf.predict(cX_test)"
   ]
  },
  {
   "cell_type": "code",
   "execution_count": 364,
   "metadata": {},
   "outputs": [
    {
     "data": {
      "text/plain": [
       "0.9964912280701754"
      ]
     },
     "execution_count": 364,
     "metadata": {},
     "output_type": "execute_result"
    }
   ],
   "source": [
    "accuracy_score(cy_pred,cy_test)"
   ]
  },
  {
   "cell_type": "code",
   "execution_count": 46,
   "metadata": {},
   "outputs": [],
   "source": [
    "from sklearn.model_selection import GridSearchCV"
   ]
  },
  {
   "cell_type": "code",
   "execution_count": 48,
   "metadata": {},
   "outputs": [],
   "source": [
    "params = {'n_estimators':range(50,150,25),\n",
    "          'learning_rate':[0.001,0.01,0.1,1],\n",
    "          'min_samples_split':range(2,5),\n",
    "         'min_samples_leaf':range(1,11,5),\n",
    "         'max_depth':range(3,6)}"
   ]
  },
  {
   "cell_type": "code",
   "execution_count": 50,
   "metadata": {},
   "outputs": [],
   "source": [
    "grid_clf = GridSearchCV(estimator=grb_clf, param_grid=params, cv=5)"
   ]
  },
  {
   "cell_type": "code",
   "execution_count": 55,
   "metadata": {},
   "outputs": [
    {
     "data": {
      "text/plain": [
       "\"\\n{'learning_rate': 0.1,\\n 'max_depth': 3,\\n 'min_samples_leaf': 6,\\n 'min_samples_split': 3,\\n 'n_estimators': 100}\\n \""
      ]
     },
     "execution_count": 55,
     "metadata": {},
     "output_type": "execute_result"
    }
   ],
   "source": [
    "#grid_clf.fit(X_train,y_train)\n",
    "'''\n",
    "{'learning_rate': 0.1,\n",
    " 'max_depth': 3,\n",
    " 'min_samples_leaf': 6,\n",
    " 'min_samples_split': 3,\n",
    " 'n_estimators': 100}\n",
    " '''"
   ]
  },
  {
   "cell_type": "code",
   "execution_count": 53,
   "metadata": {},
   "outputs": [
    {
     "data": {
      "text/plain": [
       "{'learning_rate': 0.1,\n",
       " 'max_depth': 3,\n",
       " 'min_samples_leaf': 6,\n",
       " 'min_samples_split': 3,\n",
       " 'n_estimators': 100}"
      ]
     },
     "execution_count": 53,
     "metadata": {},
     "output_type": "execute_result"
    }
   ],
   "source": [
    "grid_clf.best_params_"
   ]
  },
  {
   "cell_type": "code",
   "execution_count": 54,
   "metadata": {},
   "outputs": [],
   "source": [
    "best_clf = grid_clf.best_estimator_"
   ]
  },
  {
   "cell_type": "code",
   "execution_count": 56,
   "metadata": {},
   "outputs": [
    {
     "data": {
      "text/plain": [
       "GradientBoostingClassifier(min_samples_leaf=6, min_samples_split=3)"
      ]
     },
     "execution_count": 56,
     "metadata": {},
     "output_type": "execute_result"
    }
   ],
   "source": [
    "best_clf.fit(X_train,y_train)"
   ]
  },
  {
   "cell_type": "code",
   "execution_count": 58,
   "metadata": {},
   "outputs": [],
   "source": [
    "y_pred = best_clf.predict(X_test)\n",
    "accuracy_score(y_pred,y_test)\n",
    "from sklearn.metrics import roc_auc_score"
   ]
  },
  {
   "cell_type": "code",
   "execution_count": 59,
   "metadata": {},
   "outputs": [
    {
     "data": {
      "text/plain": [
       "0.8457732149463559"
      ]
     },
     "execution_count": 59,
     "metadata": {},
     "output_type": "execute_result"
    }
   ],
   "source": [
    "roc_auc_score(y_pred,y_test)"
   ]
  },
  {
   "cell_type": "code",
   "execution_count": 60,
   "metadata": {},
   "outputs": [
    {
     "name": "stdout",
     "output_type": "stream",
     "text": [
      "Acc: 0.8631090487238979\n",
      "0.8586150136783048\n"
     ]
    }
   ],
   "source": [
    "y_pred_2 = grb_clf.predict(X_test)\n",
    "print('Acc:',accuracy_score(y_pred_2,y_test))\n",
    "print(roc_auc_score(y_pred_2,y_test))\n"
   ]
  },
  {
   "cell_type": "code",
   "execution_count": 61,
   "metadata": {},
   "outputs": [],
   "source": [
    "import torch\n",
    "import random\n",
    "import numpy as np\n",
    "\n",
    "random.seed(0)\n",
    "np.random.seed(0)\n",
    "torch.manual_seed(0)\n",
    "torch.cuda.manual_seed(0)\n",
    "torch.backends.cudnn.deterministic = True"
   ]
  },
  {
   "cell_type": "markdown",
   "metadata": {},
   "source": [
    "## Реформирование данных"
   ]
  },
  {
   "cell_type": "code",
   "execution_count": 68,
   "metadata": {},
   "outputs": [],
   "source": [
    "X_train_np = np.array(X_train)\n",
    "X_test_np = np.array(X_test)\n",
    "y_train_np = np.array(y_train)\n",
    "y_test_np = np.array(y_test)\n"
   ]
  },
  {
   "cell_type": "code",
   "execution_count": 368,
   "metadata": {},
   "outputs": [],
   "source": [
    "cX_train_np = np.array(cX_train)\n",
    "cX_test_np = np.array(cX_test)\n",
    "cy_train_np = np.array(cy_train)\n",
    "cy_test_np = np.array(cy_test)\n"
   ]
  },
  {
   "cell_type": "code",
   "execution_count": 69,
   "metadata": {},
   "outputs": [],
   "source": [
    "X_train_torch = torch.Tensor(X_train_np)\n",
    "X_test_torch = torch.Tensor(X_test_np)\n",
    "y_train_torch = torch.Tensor(y_train_np)\n",
    "y_test_torch = torch.Tensor(y_test_np)"
   ]
  },
  {
   "cell_type": "code",
   "execution_count": 369,
   "metadata": {},
   "outputs": [],
   "source": [
    "cX_train_torch = torch.Tensor(cX_train_np)\n",
    "cX_test_torch = torch.Tensor(cX_test_np)\n",
    "cy_train_torch = torch.Tensor(cy_train_np)\n",
    "cy_test_torch = torch.Tensor(cy_test_np)"
   ]
  },
  {
   "cell_type": "code",
   "execution_count": 70,
   "metadata": {},
   "outputs": [
    {
     "data": {
      "text/plain": [
       "(torch.Size([875, 12]),\n",
       " torch.Size([431, 12]),\n",
       " torch.Size([875]),\n",
       " torch.Size([431]))"
      ]
     },
     "execution_count": 70,
     "metadata": {},
     "output_type": "execute_result"
    }
   ],
   "source": [
    "X_train_torch.shape, X_test_torch.shape, y_train_torch.shape, y_test_torch.shape"
   ]
  },
  {
   "cell_type": "code",
   "execution_count": 71,
   "metadata": {},
   "outputs": [],
   "source": [
    "y_train_torch = y_train_torch.unsqueeze(1)"
   ]
  },
  {
   "cell_type": "code",
   "execution_count": 73,
   "metadata": {},
   "outputs": [],
   "source": [
    "y_test_torch = y_test_torch.unsqueeze(1)"
   ]
  },
  {
   "cell_type": "code",
   "execution_count": 370,
   "metadata": {},
   "outputs": [],
   "source": [
    "cy_train_torch = cy_train_torch.unsqueeze(1)\n",
    "cy_test_torch = cy_test_torch.unsqueeze(1)"
   ]
  },
  {
   "cell_type": "code",
   "execution_count": 376,
   "metadata": {},
   "outputs": [],
   "source": [
    "class TitanicNet(torch.nn.Module):\n",
    "    def __init__(self, n_hidden_neurons):\n",
    "        super(TitanicNet,self).__init__()\n",
    "        self.fc1 = torch.nn.Linear(cX_train.shape[1], n_hidden_neurons)\n",
    "        self.act1 = torch.nn.Tanh()\n",
    "        #self.fc2 = torch.nn.Linear(n_hidden_neurons,n_hidden_neurons)\n",
    "        #self.act2 = torch.nn.Sigmoid()\n",
    "        self.fc3 = torch.nn.Linear(n_hidden_neurons,1)\n",
    "        # self.act2 = torch.nn.Tanh()\n",
    "    # self.sm = torch.nn.Softmax(dim=1)\n",
    "    def forward(self,x):\n",
    "        x = self.fc1(x)\n",
    "        x = self.act1(x)\n",
    "        #x = self.fc2(x)\n",
    "        #x = self.act2(x)\n",
    "        x = self.fc3(x)\n",
    "        # x = self.act2(x)\n",
    "        return x "
   ]
  },
  {
   "cell_type": "code",
   "execution_count": 383,
   "metadata": {},
   "outputs": [],
   "source": [
    "titanic_net = TitanicNet(10)"
   ]
  },
  {
   "cell_type": "code",
   "execution_count": 384,
   "metadata": {},
   "outputs": [],
   "source": [
    "loss = torch.nn.MSELoss()"
   ]
  },
  {
   "cell_type": "code",
   "execution_count": 385,
   "metadata": {},
   "outputs": [],
   "source": [
    "optimizer = torch.optim.Adam(titanic_net.parameters(), lr=5.0e-4)"
   ]
  },
  {
   "cell_type": "code",
   "execution_count": 386,
   "metadata": {},
   "outputs": [],
   "source": [
    "batch_size = 15"
   ]
  },
  {
   "cell_type": "code",
   "execution_count": 387,
   "metadata": {},
   "outputs": [],
   "source": [
    "test_accuracy_history = []\n",
    "test_loss_history = []"
   ]
  },
  {
   "cell_type": "code",
   "execution_count": 306,
   "metadata": {},
   "outputs": [
    {
     "name": "stdout",
     "output_type": "stream",
     "text": [
      "Epoch 9 tensor(0.1350, grad_fn=<MseLossBackward>) tensor(0.8399)\n",
      "Epoch 19 tensor(0.1172, grad_fn=<MseLossBackward>) tensor(0.8608)\n",
      "Epoch 29 tensor(0.1139, grad_fn=<MseLossBackward>) tensor(0.8654)\n",
      "Epoch 39 tensor(0.1124, grad_fn=<MseLossBackward>) tensor(0.8538)\n",
      "Epoch 49 tensor(0.1097, grad_fn=<MseLossBackward>) tensor(0.8654)\n",
      "Epoch 59 tensor(0.1101, grad_fn=<MseLossBackward>) tensor(0.8654)\n",
      "Epoch 69 tensor(0.1102, grad_fn=<MseLossBackward>) tensor(0.8677)\n",
      "Epoch 79 tensor(0.1107, grad_fn=<MseLossBackward>) tensor(0.8677)\n",
      "Epoch 89 tensor(0.1105, grad_fn=<MseLossBackward>) tensor(0.8701)\n",
      "Epoch 99 tensor(0.1108, grad_fn=<MseLossBackward>) tensor(0.8677)\n",
      "Epoch 109 tensor(0.1090, grad_fn=<MseLossBackward>) tensor(0.8677)\n",
      "Epoch 119 tensor(0.1098, grad_fn=<MseLossBackward>) tensor(0.8677)\n",
      "Epoch 129 tensor(0.1106, grad_fn=<MseLossBackward>) tensor(0.8701)\n",
      "Epoch 139 tensor(0.1088, grad_fn=<MseLossBackward>) tensor(0.8677)\n",
      "Epoch 149 tensor(0.1093, grad_fn=<MseLossBackward>) tensor(0.8724)\n",
      "Epoch 159 tensor(0.1106, grad_fn=<MseLossBackward>) tensor(0.8770)\n",
      "Epoch 169 tensor(0.1120, grad_fn=<MseLossBackward>) tensor(0.8747)\n",
      "Epoch 179 tensor(0.1089, grad_fn=<MseLossBackward>) tensor(0.8701)\n",
      "Epoch 189 tensor(0.1098, grad_fn=<MseLossBackward>) tensor(0.8701)\n",
      "Epoch 199 tensor(0.1096, grad_fn=<MseLossBackward>) tensor(0.8724)\n",
      "Epoch 209 tensor(0.1097, grad_fn=<MseLossBackward>) tensor(0.8724)\n",
      "Epoch 219 tensor(0.1112, grad_fn=<MseLossBackward>) tensor(0.8747)\n",
      "Epoch 229 tensor(0.1114, grad_fn=<MseLossBackward>) tensor(0.8747)\n",
      "Epoch 239 tensor(0.1103, grad_fn=<MseLossBackward>) tensor(0.8747)\n",
      "Epoch 249 tensor(0.1103, grad_fn=<MseLossBackward>) tensor(0.8724)\n",
      "Epoch 259 tensor(0.1112, grad_fn=<MseLossBackward>) tensor(0.8724)\n",
      "Epoch 269 tensor(0.1124, grad_fn=<MseLossBackward>) tensor(0.8747)\n",
      "Epoch 279 tensor(0.1112, grad_fn=<MseLossBackward>) tensor(0.8724)\n",
      "Epoch 289 tensor(0.1117, grad_fn=<MseLossBackward>) tensor(0.8724)\n",
      "Epoch 299 tensor(0.1140, grad_fn=<MseLossBackward>) tensor(0.8724)\n",
      "Epoch 309 tensor(0.1123, grad_fn=<MseLossBackward>) tensor(0.8724)\n",
      "Epoch 319 tensor(0.1122, grad_fn=<MseLossBackward>) tensor(0.8701)\n",
      "Epoch 329 tensor(0.1134, grad_fn=<MseLossBackward>) tensor(0.8724)\n",
      "Epoch 339 tensor(0.1131, grad_fn=<MseLossBackward>) tensor(0.8724)\n",
      "Epoch 349 tensor(0.1125, grad_fn=<MseLossBackward>) tensor(0.8701)\n",
      "Epoch 359 tensor(0.1155, grad_fn=<MseLossBackward>) tensor(0.8724)\n",
      "Epoch 369 tensor(0.1130, grad_fn=<MseLossBackward>) tensor(0.8701)\n",
      "Epoch 379 tensor(0.1126, grad_fn=<MseLossBackward>) tensor(0.8701)\n",
      "Epoch 389 tensor(0.1135, grad_fn=<MseLossBackward>) tensor(0.8677)\n",
      "Epoch 399 tensor(0.1134, grad_fn=<MseLossBackward>) tensor(0.8654)\n"
     ]
    }
   ],
   "source": [
    "for epoch in range(400):\n",
    "    order = np.random.permutation(len(X_train_torch))\n",
    "    for start_index in range(0,len(X_train_torch),batch_size):\n",
    "        optimizer.zero_grad()\n",
    "        batch_indexes = order[start_index:start_index+batch_size]\n",
    "        x_batch = X_train_torch[batch_indexes]\n",
    "        y_batch = y_train_torch[batch_indexes]\n",
    "        preds = titanic_net.forward(x_batch)\n",
    "        loss_val = loss(preds,y_batch)\n",
    "        loss_val.backward()\n",
    "        optimizer.step()\n",
    "    if epoch % 10 == 9:\n",
    "        test_preds = titanic_net.forward(X_test_torch)\n",
    "\n",
    "        test_loss_history.append(loss(test_preds,y_test_torch))\n",
    "\n",
    "        accuracy = (test_preds.round() == y_test_torch).float().mean()\n",
    "\n",
    "        test_accuracy_history.append(accuracy)\n",
    "\n",
    "        print('Epoch',epoch,loss(test_preds,y_test_torch),accuracy)\n",
    "    "
   ]
  },
  {
   "cell_type": "code",
   "execution_count": 388,
   "metadata": {},
   "outputs": [
    {
     "name": "stdout",
     "output_type": "stream",
     "text": [
      "Epoch 9 tensor(0.2210, grad_fn=<MseLossBackward>) tensor(0.6596)\n",
      "Epoch 19 tensor(0.1765, grad_fn=<MseLossBackward>) tensor(0.7228)\n",
      "Epoch 29 tensor(0.0601, grad_fn=<MseLossBackward>) tensor(0.9228)\n",
      "Epoch 39 tensor(0.0217, grad_fn=<MseLossBackward>) tensor(0.9930)\n",
      "Epoch 49 tensor(0.0207, grad_fn=<MseLossBackward>) tensor(0.9895)\n",
      "Epoch 59 tensor(0.0235, grad_fn=<MseLossBackward>) tensor(0.9965)\n",
      "Epoch 69 tensor(0.0195, grad_fn=<MseLossBackward>) tensor(0.9930)\n",
      "Epoch 79 tensor(0.0115, grad_fn=<MseLossBackward>) tensor(0.9965)\n",
      "Epoch 89 tensor(0.0131, grad_fn=<MseLossBackward>) tensor(0.9965)\n",
      "Epoch 99 tensor(0.0117, grad_fn=<MseLossBackward>) tensor(0.9965)\n",
      "Epoch 109 tensor(0.0113, grad_fn=<MseLossBackward>) tensor(0.9965)\n",
      "Epoch 119 tensor(0.0154, grad_fn=<MseLossBackward>) tensor(0.9965)\n",
      "Epoch 129 tensor(0.0125, grad_fn=<MseLossBackward>) tensor(0.9965)\n",
      "Epoch 139 tensor(0.0111, grad_fn=<MseLossBackward>) tensor(0.9965)\n",
      "Epoch 149 tensor(0.0120, grad_fn=<MseLossBackward>) tensor(0.9965)\n",
      "Epoch 159 tensor(0.0135, grad_fn=<MseLossBackward>) tensor(0.9965)\n",
      "Epoch 169 tensor(0.0107, grad_fn=<MseLossBackward>) tensor(0.9965)\n",
      "Epoch 179 tensor(0.0105, grad_fn=<MseLossBackward>) tensor(0.9965)\n",
      "Epoch 189 tensor(0.0137, grad_fn=<MseLossBackward>) tensor(0.9930)\n",
      "Epoch 199 tensor(0.0202, grad_fn=<MseLossBackward>) tensor(0.9825)\n",
      "Epoch 209 tensor(0.0142, grad_fn=<MseLossBackward>) tensor(0.9930)\n",
      "Epoch 219 tensor(0.0097, grad_fn=<MseLossBackward>) tensor(0.9965)\n",
      "Epoch 229 tensor(0.0129, grad_fn=<MseLossBackward>) tensor(0.9930)\n",
      "Epoch 239 tensor(0.0150, grad_fn=<MseLossBackward>) tensor(0.9930)\n",
      "Epoch 249 tensor(0.0103, grad_fn=<MseLossBackward>) tensor(0.9930)\n",
      "Epoch 259 tensor(0.0127, grad_fn=<MseLossBackward>) tensor(0.9930)\n",
      "Epoch 269 tensor(0.0096, grad_fn=<MseLossBackward>) tensor(0.9930)\n",
      "Epoch 279 tensor(0.0128, grad_fn=<MseLossBackward>) tensor(0.9930)\n",
      "Epoch 289 tensor(0.0133, grad_fn=<MseLossBackward>) tensor(0.9930)\n",
      "Epoch 299 tensor(0.0242, grad_fn=<MseLossBackward>) tensor(0.9789)\n",
      "Epoch 309 tensor(0.0110, grad_fn=<MseLossBackward>) tensor(0.9930)\n",
      "Epoch 319 tensor(0.0126, grad_fn=<MseLossBackward>) tensor(0.9895)\n",
      "Epoch 329 tensor(0.0109, grad_fn=<MseLossBackward>) tensor(0.9930)\n",
      "Epoch 339 tensor(0.0105, grad_fn=<MseLossBackward>) tensor(0.9930)\n",
      "Epoch 349 tensor(0.0137, grad_fn=<MseLossBackward>) tensor(0.9930)\n",
      "Epoch 359 tensor(0.0121, grad_fn=<MseLossBackward>) tensor(0.9895)\n",
      "Epoch 369 tensor(0.0110, grad_fn=<MseLossBackward>) tensor(0.9930)\n",
      "Epoch 379 tensor(0.0133, grad_fn=<MseLossBackward>) tensor(0.9930)\n",
      "Epoch 389 tensor(0.0118, grad_fn=<MseLossBackward>) tensor(0.9930)\n",
      "Epoch 399 tensor(0.0194, grad_fn=<MseLossBackward>) tensor(0.9860)\n"
     ]
    }
   ],
   "source": [
    "for epoch in range(400):\n",
    "    order = np.random.permutation(len(cX_train_torch))\n",
    "    for start_index in range(0,len(cX_train_torch),batch_size):\n",
    "        optimizer.zero_grad()\n",
    "        batch_indexes = order[start_index:start_index+batch_size]\n",
    "        x_batch = cX_train_torch[batch_indexes]\n",
    "        y_batch = cy_train_torch[batch_indexes]\n",
    "        preds = titanic_net.forward(x_batch)\n",
    "        loss_val = loss(preds,y_batch)\n",
    "        loss_val.backward()\n",
    "        optimizer.step()\n",
    "    if epoch % 10 == 9:\n",
    "        test_preds = titanic_net.forward(cX_test_torch)\n",
    "\n",
    "        test_loss_history.append(loss(test_preds,cy_test_torch))\n",
    "\n",
    "        accuracy = (test_preds.round() == cy_test_torch).float().mean()\n",
    "\n",
    "        test_accuracy_history.append(accuracy)\n",
    "\n",
    "        print('Epoch',epoch,loss(test_preds,cy_test_torch),accuracy)\n",
    "    "
   ]
  },
  {
   "cell_type": "code",
   "execution_count": 389,
   "metadata": {},
   "outputs": [
    {
     "name": "stderr",
     "output_type": "stream",
     "text": [
      "No handles with labels found to put in legend.\n"
     ]
    },
    {
     "data": {
      "text/plain": [
       "<matplotlib.legend.Legend at 0x228ead38ca0>"
      ]
     },
     "execution_count": 389,
     "metadata": {},
     "output_type": "execute_result"
    },
    {
     "data": {
      "image/png": "[encoded data removed]",
      "text/plain": [
       "<Figure size 1080x432 with 2 Axes>"
      ]
     },
     "metadata": {
      "needs_background": "light"
     },
     "output_type": "display_data"
    }
   ],
   "source": [
    "plt.figure(figsize=(15,6))\n",
    "plt.subplot(121)\n",
    "plt.plot(test_accuracy_history)\n",
    "plt.subplot(122)\n",
    "plt.plot(test_loss_history)\n",
    "plt.title('Accuracy')\n",
    "plt.legend()\n"
   ]
  },
  {
   "cell_type": "code",
   "execution_count": 312,
   "metadata": {},
   "outputs": [],
   "source": [
    "pres_1 = titanic_net.forward(X_test_torch).detach().numpy().reshape(-1)"
   ]
  },
  {
   "cell_type": "code",
   "execution_count": 314,
   "metadata": {},
   "outputs": [],
   "source": [
    "y_test_1 = np.array(y_test)"
   ]
  },
  {
   "cell_type": "code",
   "execution_count": 318,
   "metadata": {},
   "outputs": [],
   "source": [
    "pres1 = pres_1.round()"
   ]
  },
  {
   "cell_type": "code",
   "execution_count": 321,
   "metadata": {},
   "outputs": [
    {
     "data": {
      "text/plain": [
       "((431,), (431,))"
      ]
     },
     "execution_count": 321,
     "metadata": {},
     "output_type": "execute_result"
    }
   ],
   "source": [
    "pres1.shape, y_test_1.shape"
   ]
  },
  {
   "cell_type": "code",
   "execution_count": 322,
   "metadata": {},
   "outputs": [
    {
     "data": {
      "text/plain": [
       "0.8654292343387471"
      ]
     },
     "execution_count": 322,
     "metadata": {},
     "output_type": "execute_result"
    }
   ],
   "source": [
    "(pres1 == y_test_1).mean()"
   ]
  },
  {
   "cell_type": "code",
   "execution_count": 323,
   "metadata": {},
   "outputs": [
    {
     "data": {
      "text/plain": [
       "0.8680009645526886"
      ]
     },
     "execution_count": 323,
     "metadata": {},
     "output_type": "execute_result"
    }
   ],
   "source": [
    "roc_auc_score(pres1,y_test_1)"
   ]
  },
  {
   "cell_type": "code",
   "execution_count": null,
   "metadata": {},
   "outputs": [],
   "source": []
  }
 ],
 "metadata": {
  "kernelspec": {
   "display_name": "Python 3",
   "language": "python",
   "name": "python3"
  },
  "language_info": {
   "codemirror_mode": {
    "name": "ipython",
    "version": 3
   },
   "file_extension": ".py",
   "mimetype": "text/x-python",
   "name": "python",
   "nbconvert_exporter": "python",
   "pygments_lexer": "ipython3",
   "version": "3.9.0"
  }
 },
 "nbformat": 4,
 "nbformat_minor": 4
}
